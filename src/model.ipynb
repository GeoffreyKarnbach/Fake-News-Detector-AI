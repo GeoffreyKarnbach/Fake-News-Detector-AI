{
 "metadata": {
  "language_info": {
   "codemirror_mode": {
    "name": "ipython",
    "version": 3
   },
   "file_extension": ".py",
   "mimetype": "text/x-python",
   "name": "python",
   "nbconvert_exporter": "python",
   "pygments_lexer": "ipython3",
   "version": "3.8.8"
  },
  "orig_nbformat": 4,
  "kernelspec": {
   "name": "python3",
   "display_name": "Python 3.8.8 64-bit ('tensorflow_env': conda)"
  },
  "interpreter": {
   "hash": "375ab4c1ab94451e4347f8ebefe4abf995b6f0e04a291ef7cdf3744e7f1198d8"
  }
 },
 "nbformat": 4,
 "nbformat_minor": 2,
 "cells": [
  {
   "cell_type": "code",
   "execution_count": 1,
   "metadata": {},
   "outputs": [],
   "source": [
    "import numpy as np\n",
    "import pandas as pd\n",
    "from sklearn.utils import shuffle\n",
    "from tensorflow.keras.preprocessing.text import Tokenizer\n",
    "from tensorflow.keras import preprocessing\n",
    "from tensorflow.keras.models import Sequential\n",
    "from tensorflow.keras.layers import Flatten, Dense\n",
    "from tensorflow.keras.layers import Embedding\n",
    "import tensorflow as tf"
   ]
  },
  {
   "cell_type": "code",
   "execution_count": 4,
   "metadata": {},
   "outputs": [],
   "source": [
    "df = pd.read_csv(\"../data/transformed/wrangled.csv\")"
   ]
  },
  {
   "cell_type": "code",
   "execution_count": 5,
   "metadata": {},
   "outputs": [
    {
     "output_type": "execute_result",
     "data": {
      "text/plain": [
       "   Unnamed: 0  id                                              title  \\\n",
       "0           0   0  House Dem Aide: We Didn’t Even See Comey’s Let...   \n",
       "1           1   1  FLYNN: Hillary Clinton, Big Woman on Campus - ...   \n",
       "2           2   2                  Why the Truth Might Get You Fired   \n",
       "3           3   3  15 Civilians Killed In Single US Airstrike Hav...   \n",
       "4           4   4  Iranian woman jailed for fictional unpublished...   \n",
       "\n",
       "               author                                               text  \\\n",
       "0       Darrell Lucus  House Dem Aide: We Didn’t Even See Comey’s Let...   \n",
       "1     Daniel J. Flynn  Ever get the feeling your life circles the rou...   \n",
       "2  Consortiumnews.com  Why the Truth Might Get You Fired October 29, ...   \n",
       "3     Jessica Purkiss  Videos 15 Civilians Killed In Single US Airstr...   \n",
       "4      Howard Portnoy  Print \\nAn Iranian woman has been sentenced to...   \n",
       "\n",
       "   label  nb_names  exclamation  text_length  \n",
       "0      1        17            0           10  \n",
       "1      0        12            0            9  \n",
       "2      1        11            0           16  \n",
       "3      1         4            0            7  \n",
       "4      1         3            0            2  "
      ],
      "text/html": "<div>\n<style scoped>\n    .dataframe tbody tr th:only-of-type {\n        vertical-align: middle;\n    }\n\n    .dataframe tbody tr th {\n        vertical-align: top;\n    }\n\n    .dataframe thead th {\n        text-align: right;\n    }\n</style>\n<table border=\"1\" class=\"dataframe\">\n  <thead>\n    <tr style=\"text-align: right;\">\n      <th></th>\n      <th>Unnamed: 0</th>\n      <th>id</th>\n      <th>title</th>\n      <th>author</th>\n      <th>text</th>\n      <th>label</th>\n      <th>nb_names</th>\n      <th>exclamation</th>\n      <th>text_length</th>\n    </tr>\n  </thead>\n  <tbody>\n    <tr>\n      <th>0</th>\n      <td>0</td>\n      <td>0</td>\n      <td>House Dem Aide: We Didn’t Even See Comey’s Let...</td>\n      <td>Darrell Lucus</td>\n      <td>House Dem Aide: We Didn’t Even See Comey’s Let...</td>\n      <td>1</td>\n      <td>17</td>\n      <td>0</td>\n      <td>10</td>\n    </tr>\n    <tr>\n      <th>1</th>\n      <td>1</td>\n      <td>1</td>\n      <td>FLYNN: Hillary Clinton, Big Woman on Campus - ...</td>\n      <td>Daniel J. Flynn</td>\n      <td>Ever get the feeling your life circles the rou...</td>\n      <td>0</td>\n      <td>12</td>\n      <td>0</td>\n      <td>9</td>\n    </tr>\n    <tr>\n      <th>2</th>\n      <td>2</td>\n      <td>2</td>\n      <td>Why the Truth Might Get You Fired</td>\n      <td>Consortiumnews.com</td>\n      <td>Why the Truth Might Get You Fired October 29, ...</td>\n      <td>1</td>\n      <td>11</td>\n      <td>0</td>\n      <td>16</td>\n    </tr>\n    <tr>\n      <th>3</th>\n      <td>3</td>\n      <td>3</td>\n      <td>15 Civilians Killed In Single US Airstrike Hav...</td>\n      <td>Jessica Purkiss</td>\n      <td>Videos 15 Civilians Killed In Single US Airstr...</td>\n      <td>1</td>\n      <td>4</td>\n      <td>0</td>\n      <td>7</td>\n    </tr>\n    <tr>\n      <th>4</th>\n      <td>4</td>\n      <td>4</td>\n      <td>Iranian woman jailed for fictional unpublished...</td>\n      <td>Howard Portnoy</td>\n      <td>Print \\nAn Iranian woman has been sentenced to...</td>\n      <td>1</td>\n      <td>3</td>\n      <td>0</td>\n      <td>2</td>\n    </tr>\n  </tbody>\n</table>\n</div>"
     },
     "metadata": {},
     "execution_count": 5
    }
   ],
   "source": [
    "df.head()"
   ]
  },
  {
   "source": [
    "Regression"
   ],
   "cell_type": "markdown",
   "metadata": {}
  },
  {
   "cell_type": "code",
   "execution_count": 14,
   "metadata": {},
   "outputs": [],
   "source": [
    "model = tf.keras.Sequential([\n",
    "      tf.keras.layers.Dense(32, activation='relu', input_shape=(3,)),\n",
    "      tf.keras.layers.Dense(32, activation='relu'),\n",
    "      tf.keras.layers.Dense(1, activation='sigmoid')\n",
    "])\n",
    "\n",
    "model.compile(loss='mean_absolute_error',\n",
    "                optimizer=tf.keras.optimizers.Adam(0.001),\n",
    "                metrics=[tf.keras.metrics.Accuracy()])"
   ]
  },
  {
   "cell_type": "code",
   "execution_count": 15,
   "metadata": {},
   "outputs": [
    {
     "output_type": "stream",
     "name": "stdout",
     "text": [
      "Model: \"sequential_1\"\n_________________________________________________________________\nLayer (type)                 Output Shape              Param #   \n=================================================================\ndense_3 (Dense)              (None, 32)                128       \n_________________________________________________________________\ndense_4 (Dense)              (None, 32)                1056      \n_________________________________________________________________\ndense_5 (Dense)              (None, 1)                 33        \n=================================================================\nTotal params: 1,217\nTrainable params: 1,217\nNon-trainable params: 0\n_________________________________________________________________\n"
     ]
    }
   ],
   "source": [
    "model.summary()"
   ]
  },
  {
   "cell_type": "code",
   "execution_count": 16,
   "metadata": {},
   "outputs": [
    {
     "output_type": "stream",
     "name": "stdout",
     "text": [
      "Epoch 1/100\n",
      "519/519 [==============================] - 1s 743us/step - loss: 0.3695 - accuracy: 0.0070 - val_loss: 0.3236 - val_accuracy: 0.0149\n",
      "Epoch 2/100\n",
      "519/519 [==============================] - 0s 569us/step - loss: 0.3278 - accuracy: 0.0287 - val_loss: 0.3236 - val_accuracy: 0.0308\n",
      "Epoch 3/100\n",
      "519/519 [==============================] - 0s 575us/step - loss: 0.3240 - accuracy: 0.0503 - val_loss: 0.3158 - val_accuracy: 0.0583\n",
      "Epoch 4/100\n",
      "519/519 [==============================] - 0s 591us/step - loss: 0.3229 - accuracy: 0.0585 - val_loss: 0.3156 - val_accuracy: 0.0681\n",
      "Epoch 5/100\n",
      "519/519 [==============================] - 0s 589us/step - loss: 0.3218 - accuracy: 0.0777 - val_loss: 0.3156 - val_accuracy: 0.0997\n",
      "Epoch 6/100\n",
      "519/519 [==============================] - 0s 568us/step - loss: 0.3209 - accuracy: 0.0865 - val_loss: 0.3151 - val_accuracy: 0.0975\n",
      "Epoch 7/100\n",
      "519/519 [==============================] - 0s 552us/step - loss: 0.3202 - accuracy: 0.0860 - val_loss: 0.3151 - val_accuracy: 0.0956\n",
      "Epoch 8/100\n",
      "519/519 [==============================] - 0s 595us/step - loss: 0.3198 - accuracy: 0.0963 - val_loss: 0.3145 - val_accuracy: 0.1057\n",
      "Epoch 9/100\n",
      "519/519 [==============================] - 0s 577us/step - loss: 0.3203 - accuracy: 0.0975 - val_loss: 0.3138 - val_accuracy: 0.1016\n",
      "Epoch 10/100\n",
      "519/519 [==============================] - 0s 562us/step - loss: 0.3183 - accuracy: 0.1031 - val_loss: 0.3143 - val_accuracy: 0.1185\n",
      "Epoch 11/100\n",
      "519/519 [==============================] - 0s 571us/step - loss: 0.3195 - accuracy: 0.1079 - val_loss: 0.3135 - val_accuracy: 0.1264\n",
      "Epoch 12/100\n",
      "519/519 [==============================] - 0s 562us/step - loss: 0.3189 - accuracy: 0.1160 - val_loss: 0.3145 - val_accuracy: 0.1295\n",
      "Epoch 13/100\n",
      "519/519 [==============================] - 0s 560us/step - loss: 0.3183 - accuracy: 0.1220 - val_loss: 0.3150 - val_accuracy: 0.1177\n",
      "Epoch 14/100\n",
      "519/519 [==============================] - 0s 554us/step - loss: 0.3178 - accuracy: 0.1288 - val_loss: 0.3153 - val_accuracy: 0.1230\n",
      "Epoch 15/100\n",
      "519/519 [==============================] - 0s 552us/step - loss: 0.3181 - accuracy: 0.1369 - val_loss: 0.3176 - val_accuracy: 0.1462\n",
      "Epoch 16/100\n",
      "519/519 [==============================] - 0s 573us/step - loss: 0.3179 - accuracy: 0.1355 - val_loss: 0.3137 - val_accuracy: 0.1365\n",
      "Epoch 17/100\n",
      "519/519 [==============================] - 0s 571us/step - loss: 0.3179 - accuracy: 0.1455 - val_loss: 0.3146 - val_accuracy: 0.1397\n",
      "Epoch 18/100\n",
      "519/519 [==============================] - 0s 566us/step - loss: 0.3179 - accuracy: 0.1718 - val_loss: 0.3206 - val_accuracy: 0.2328\n",
      "Epoch 19/100\n",
      "519/519 [==============================] - 0s 573us/step - loss: 0.3191 - accuracy: 0.1713 - val_loss: 0.3132 - val_accuracy: 0.1972\n",
      "Epoch 20/100\n",
      "519/519 [==============================] - 0s 593us/step - loss: 0.3185 - accuracy: 0.1834 - val_loss: 0.3165 - val_accuracy: 0.2049\n",
      "Epoch 21/100\n",
      "519/519 [==============================] - 0s 560us/step - loss: 0.3166 - accuracy: 0.1703 - val_loss: 0.3148 - val_accuracy: 0.1801\n",
      "Epoch 22/100\n",
      "519/519 [==============================] - 0s 562us/step - loss: 0.3173 - accuracy: 0.1771 - val_loss: 0.3128 - val_accuracy: 0.1924\n",
      "Epoch 23/100\n",
      "519/519 [==============================] - 0s 577us/step - loss: 0.3176 - accuracy: 0.1885 - val_loss: 0.3113 - val_accuracy: 0.2208\n",
      "Epoch 24/100\n",
      "519/519 [==============================] - 0s 568us/step - loss: 0.3176 - accuracy: 0.1934 - val_loss: 0.3160 - val_accuracy: 0.2507\n",
      "Epoch 25/100\n",
      "519/519 [==============================] - 0s 566us/step - loss: 0.3168 - accuracy: 0.1908 - val_loss: 0.3135 - val_accuracy: 0.2088\n",
      "Epoch 26/100\n",
      "519/519 [==============================] - 0s 573us/step - loss: 0.3158 - accuracy: 0.1960 - val_loss: 0.3183 - val_accuracy: 0.2343\n",
      "Epoch 27/100\n",
      "519/519 [==============================] - 0s 556us/step - loss: 0.3172 - accuracy: 0.2122 - val_loss: 0.3126 - val_accuracy: 0.2304\n",
      "Epoch 28/100\n",
      "519/519 [==============================] - 0s 562us/step - loss: 0.3175 - accuracy: 0.1954 - val_loss: 0.3125 - val_accuracy: 0.2367\n",
      "Epoch 29/100\n",
      "519/519 [==============================] - 0s 548us/step - loss: 0.3161 - accuracy: 0.2206 - val_loss: 0.3135 - val_accuracy: 0.2186\n",
      "Epoch 30/100\n",
      "519/519 [==============================] - 0s 568us/step - loss: 0.3182 - accuracy: 0.2305 - val_loss: 0.3139 - val_accuracy: 0.2355\n",
      "Epoch 31/100\n",
      "519/519 [==============================] - 0s 556us/step - loss: 0.3158 - accuracy: 0.2115 - val_loss: 0.3132 - val_accuracy: 0.2319\n",
      "Epoch 32/100\n",
      "519/519 [==============================] - 0s 552us/step - loss: 0.3167 - accuracy: 0.2235 - val_loss: 0.3134 - val_accuracy: 0.2348\n",
      "Epoch 33/100\n",
      "519/519 [==============================] - 0s 566us/step - loss: 0.3157 - accuracy: 0.2153 - val_loss: 0.3134 - val_accuracy: 0.2261\n",
      "Epoch 34/100\n",
      "519/519 [==============================] - 0s 560us/step - loss: 0.3156 - accuracy: 0.2268 - val_loss: 0.3137 - val_accuracy: 0.2307\n",
      "Epoch 35/100\n",
      "519/519 [==============================] - 0s 566us/step - loss: 0.3149 - accuracy: 0.2243 - val_loss: 0.3163 - val_accuracy: 0.2581\n",
      "Epoch 36/100\n",
      "519/519 [==============================] - 0s 554us/step - loss: 0.3155 - accuracy: 0.2277 - val_loss: 0.3127 - val_accuracy: 0.2165\n",
      "Epoch 37/100\n",
      "519/519 [==============================] - 0s 568us/step - loss: 0.3164 - accuracy: 0.2296 - val_loss: 0.3132 - val_accuracy: 0.2471\n",
      "Epoch 38/100\n",
      "519/519 [==============================] - 0s 556us/step - loss: 0.3152 - accuracy: 0.2316 - val_loss: 0.3118 - val_accuracy: 0.2437\n",
      "Epoch 39/100\n",
      "519/519 [==============================] - 0s 554us/step - loss: 0.3158 - accuracy: 0.2321 - val_loss: 0.3124 - val_accuracy: 0.2408\n",
      "Epoch 40/100\n",
      "519/519 [==============================] - 0s 568us/step - loss: 0.3169 - accuracy: 0.2373 - val_loss: 0.3135 - val_accuracy: 0.2531\n",
      "Epoch 41/100\n",
      "519/519 [==============================] - 0s 568us/step - loss: 0.3161 - accuracy: 0.2326 - val_loss: 0.3143 - val_accuracy: 0.2471\n",
      "Epoch 42/100\n",
      "519/519 [==============================] - 0s 566us/step - loss: 0.3150 - accuracy: 0.2333 - val_loss: 0.3124 - val_accuracy: 0.2437\n",
      "Epoch 43/100\n",
      "519/519 [==============================] - 0s 556us/step - loss: 0.3158 - accuracy: 0.2306 - val_loss: 0.3131 - val_accuracy: 0.2478\n",
      "Epoch 44/100\n",
      "519/519 [==============================] - 0s 564us/step - loss: 0.3138 - accuracy: 0.2378 - val_loss: 0.3147 - val_accuracy: 0.2812\n",
      "Epoch 45/100\n",
      "519/519 [==============================] - 0s 554us/step - loss: 0.3166 - accuracy: 0.2448 - val_loss: 0.3113 - val_accuracy: 0.2574\n",
      "Epoch 46/100\n",
      "519/519 [==============================] - 0s 562us/step - loss: 0.3152 - accuracy: 0.2364 - val_loss: 0.3144 - val_accuracy: 0.2569\n",
      "Epoch 47/100\n",
      "519/519 [==============================] - 0s 566us/step - loss: 0.3154 - accuracy: 0.2451 - val_loss: 0.3133 - val_accuracy: 0.2526\n",
      "Epoch 48/100\n",
      "519/519 [==============================] - 0s 548us/step - loss: 0.3139 - accuracy: 0.2403 - val_loss: 0.3133 - val_accuracy: 0.3046\n",
      "Epoch 49/100\n",
      "519/519 [==============================] - 0s 585us/step - loss: 0.3163 - accuracy: 0.2460 - val_loss: 0.3144 - val_accuracy: 0.2497\n",
      "Epoch 50/100\n",
      "519/519 [==============================] - 0s 560us/step - loss: 0.3157 - accuracy: 0.2419 - val_loss: 0.3176 - val_accuracy: 0.2796\n",
      "Epoch 51/100\n",
      "519/519 [==============================] - 0s 570us/step - loss: 0.3160 - accuracy: 0.2517 - val_loss: 0.3124 - val_accuracy: 0.2531\n",
      "Epoch 52/100\n",
      "519/519 [==============================] - 0s 564us/step - loss: 0.3150 - accuracy: 0.2422 - val_loss: 0.3125 - val_accuracy: 0.2627\n",
      "Epoch 53/100\n",
      "519/519 [==============================] - 0s 577us/step - loss: 0.3141 - accuracy: 0.2474 - val_loss: 0.3105 - val_accuracy: 0.2752\n",
      "Epoch 54/100\n",
      "519/519 [==============================] - 0s 566us/step - loss: 0.3163 - accuracy: 0.2368 - val_loss: 0.3181 - val_accuracy: 0.2153\n",
      "Epoch 55/100\n",
      "519/519 [==============================] - 0s 566us/step - loss: 0.3178 - accuracy: 0.2428 - val_loss: 0.3110 - val_accuracy: 0.2933\n",
      "Epoch 56/100\n",
      "519/519 [==============================] - 0s 571us/step - loss: 0.3157 - accuracy: 0.2539 - val_loss: 0.3128 - val_accuracy: 0.2461\n",
      "Epoch 57/100\n",
      "519/519 [==============================] - 0s 564us/step - loss: 0.3144 - accuracy: 0.2470 - val_loss: 0.3118 - val_accuracy: 0.2615\n",
      "Epoch 58/100\n",
      "519/519 [==============================] - 0s 569us/step - loss: 0.3153 - accuracy: 0.2481 - val_loss: 0.3160 - val_accuracy: 0.2326\n",
      "Epoch 59/100\n",
      "519/519 [==============================] - 0s 564us/step - loss: 0.3193 - accuracy: 0.2379 - val_loss: 0.3132 - val_accuracy: 0.2601\n",
      "Epoch 60/100\n",
      "519/519 [==============================] - 0s 560us/step - loss: 0.3145 - accuracy: 0.2510 - val_loss: 0.3119 - val_accuracy: 0.2576\n",
      "Epoch 61/100\n",
      "519/519 [==============================] - 0s 577us/step - loss: 0.3178 - accuracy: 0.2484 - val_loss: 0.3111 - val_accuracy: 0.2858\n",
      "Epoch 62/100\n",
      "519/519 [==============================] - 0s 571us/step - loss: 0.3177 - accuracy: 0.2489 - val_loss: 0.3128 - val_accuracy: 0.2668\n",
      "Epoch 63/100\n",
      "519/519 [==============================] - 0s 562us/step - loss: 0.3161 - accuracy: 0.2546 - val_loss: 0.3142 - val_accuracy: 0.2634\n",
      "Epoch 64/100\n",
      "519/519 [==============================] - 0s 560us/step - loss: 0.3155 - accuracy: 0.2539 - val_loss: 0.3167 - val_accuracy: 0.2357\n",
      "Epoch 65/100\n",
      "519/519 [==============================] - 0s 568us/step - loss: 0.3164 - accuracy: 0.2558 - val_loss: 0.3149 - val_accuracy: 0.2791\n",
      "Epoch 66/100\n",
      "519/519 [==============================] - 0s 556us/step - loss: 0.3146 - accuracy: 0.2601 - val_loss: 0.3129 - val_accuracy: 0.2704\n",
      "Epoch 67/100\n",
      "519/519 [==============================] - 0s 573us/step - loss: 0.3169 - accuracy: 0.2496 - val_loss: 0.3100 - val_accuracy: 0.2759\n",
      "Epoch 68/100\n",
      "519/519 [==============================] - 0s 571us/step - loss: 0.3153 - accuracy: 0.2558 - val_loss: 0.3121 - val_accuracy: 0.2788\n",
      "Epoch 69/100\n",
      "519/519 [==============================] - 0s 569us/step - loss: 0.3157 - accuracy: 0.2587 - val_loss: 0.3086 - val_accuracy: 0.2911\n",
      "Epoch 70/100\n",
      "519/519 [==============================] - 0s 562us/step - loss: 0.3165 - accuracy: 0.2529 - val_loss: 0.3127 - val_accuracy: 0.2637\n",
      "Epoch 71/100\n",
      "519/519 [==============================] - 0s 570us/step - loss: 0.3191 - accuracy: 0.2831 - val_loss: 0.3135 - val_accuracy: 0.2849\n",
      "Epoch 72/100\n",
      "519/519 [==============================] - 0s 573us/step - loss: 0.3172 - accuracy: 0.2724 - val_loss: 0.3117 - val_accuracy: 0.2641\n",
      "Epoch 73/100\n",
      "519/519 [==============================] - 0s 558us/step - loss: 0.3154 - accuracy: 0.2523 - val_loss: 0.3097 - val_accuracy: 0.2856\n",
      "Epoch 74/100\n",
      "519/519 [==============================] - 0s 562us/step - loss: 0.3156 - accuracy: 0.2501 - val_loss: 0.3098 - val_accuracy: 0.2892\n",
      "Epoch 75/100\n",
      "519/519 [==============================] - 0s 568us/step - loss: 0.3189 - accuracy: 0.2688 - val_loss: 0.3104 - val_accuracy: 0.2726\n",
      "Epoch 76/100\n",
      "519/519 [==============================] - 0s 562us/step - loss: 0.3180 - accuracy: 0.2545 - val_loss: 0.3128 - val_accuracy: 0.2613\n",
      "Epoch 77/100\n",
      "519/519 [==============================] - 0s 560us/step - loss: 0.3168 - accuracy: 0.2490 - val_loss: 0.3136 - val_accuracy: 0.2663\n",
      "Epoch 78/100\n",
      "519/519 [==============================] - 0s 568us/step - loss: 0.3160 - accuracy: 0.2593 - val_loss: 0.3134 - val_accuracy: 0.2906\n",
      "Epoch 79/100\n",
      "519/519 [==============================] - 0s 569us/step - loss: 0.3153 - accuracy: 0.2601 - val_loss: 0.3147 - val_accuracy: 0.3162\n",
      "Epoch 80/100\n",
      "519/519 [==============================] - 0s 566us/step - loss: 0.3142 - accuracy: 0.2631 - val_loss: 0.3143 - val_accuracy: 0.2673\n",
      "Epoch 81/100\n",
      "519/519 [==============================] - 0s 571us/step - loss: 0.3158 - accuracy: 0.2520 - val_loss: 0.3163 - val_accuracy: 0.2596\n",
      "Epoch 82/100\n",
      "519/519 [==============================] - 0s 562us/step - loss: 0.3141 - accuracy: 0.2623 - val_loss: 0.3152 - val_accuracy: 0.2988\n",
      "Epoch 83/100\n",
      "519/519 [==============================] - 0s 566us/step - loss: 0.3154 - accuracy: 0.2793 - val_loss: 0.3124 - val_accuracy: 0.2743\n",
      "Epoch 84/100\n",
      "519/519 [==============================] - 0s 554us/step - loss: 0.3152 - accuracy: 0.2654 - val_loss: 0.3134 - val_accuracy: 0.2743\n",
      "Epoch 85/100\n",
      "519/519 [==============================] - 0s 550us/step - loss: 0.3146 - accuracy: 0.2565 - val_loss: 0.3132 - val_accuracy: 0.2637\n",
      "Epoch 86/100\n",
      "519/519 [==============================] - 0s 566us/step - loss: 0.3147 - accuracy: 0.2557 - val_loss: 0.3123 - val_accuracy: 0.2719\n",
      "Epoch 87/100\n",
      "519/519 [==============================] - 0s 557us/step - loss: 0.3153 - accuracy: 0.2654 - val_loss: 0.3116 - val_accuracy: 0.2711\n",
      "Epoch 88/100\n",
      "519/519 [==============================] - 0s 573us/step - loss: 0.3141 - accuracy: 0.2707 - val_loss: 0.3168 - val_accuracy: 0.2591\n",
      "Epoch 89/100\n",
      "519/519 [==============================] - 0s 564us/step - loss: 0.3155 - accuracy: 0.2616 - val_loss: 0.3085 - val_accuracy: 0.2940\n",
      "Epoch 90/100\n",
      "519/519 [==============================] - 0s 562us/step - loss: 0.3184 - accuracy: 0.2926 - val_loss: 0.3141 - val_accuracy: 0.2788\n",
      "Epoch 91/100\n",
      "519/519 [==============================] - 0s 562us/step - loss: 0.3151 - accuracy: 0.2589 - val_loss: 0.3104 - val_accuracy: 0.2841\n",
      "Epoch 92/100\n",
      "519/519 [==============================] - 0s 575us/step - loss: 0.3151 - accuracy: 0.2631 - val_loss: 0.3101 - val_accuracy: 0.3048\n",
      "Epoch 93/100\n",
      "519/519 [==============================] - 0s 587us/step - loss: 0.3154 - accuracy: 0.2645 - val_loss: 0.3116 - val_accuracy: 0.2863\n",
      "Epoch 94/100\n",
      "519/519 [==============================] - 0s 603us/step - loss: 0.3150 - accuracy: 0.2629 - val_loss: 0.3120 - val_accuracy: 0.2673\n",
      "Epoch 95/100\n",
      "519/519 [==============================] - 0s 612us/step - loss: 0.3145 - accuracy: 0.2675 - val_loss: 0.3088 - val_accuracy: 0.2969\n",
      "Epoch 96/100\n",
      "519/519 [==============================] - 0s 581us/step - loss: 0.3139 - accuracy: 0.2691 - val_loss: 0.3122 - val_accuracy: 0.2738\n",
      "Epoch 97/100\n",
      "519/519 [==============================] - 0s 579us/step - loss: 0.3183 - accuracy: 0.2870 - val_loss: 0.3148 - val_accuracy: 0.2986\n",
      "Epoch 98/100\n",
      "519/519 [==============================] - 0s 558us/step - loss: 0.3154 - accuracy: 0.2694 - val_loss: 0.3096 - val_accuracy: 0.3000\n",
      "Epoch 99/100\n",
      "519/519 [==============================] - 0s 597us/step - loss: 0.3167 - accuracy: 0.2716 - val_loss: 0.3134 - val_accuracy: 0.2812\n",
      "Epoch 100/100\n",
      "519/519 [==============================] - 0s 579us/step - loss: 0.3188 - accuracy: 0.2980 - val_loss: 0.3188 - val_accuracy: 0.3337\n"
     ]
    },
    {
     "output_type": "execute_result",
     "data": {
      "text/plain": [
       "<tensorflow.python.keras.callbacks.History at 0x1625690d400>"
      ]
     },
     "metadata": {},
     "execution_count": 16
    }
   ],
   "source": [
    "model.fit(df[[\"nb_names\", \"exclamation\", \"text_length\"]], df[\"label\"], epochs=100, validation_split = 0.2)"
   ]
  },
  {
   "source": [
    "Tokenizer"
   ],
   "cell_type": "markdown",
   "metadata": {}
  },
  {
   "cell_type": "code",
   "execution_count": 19,
   "metadata": {},
   "outputs": [],
   "source": [
    "# Shuffle data to improve performance\n",
    "data = shuffle(df)\n",
    "\n",
    "# Create list from data\n",
    "text = []\n",
    "\n",
    "for index, rows in df.iterrows(): \n",
    "    wordlist = str(rows[\"text\"])\n",
    "    text.append(wordlist)\n",
    "\n",
    "label = list(df['label'])\n",
    "\n",
    "# Create tokenizer\n",
    "tokenizer = Tokenizer(num_words=10000)\n",
    "tokenizer.fit_on_texts(text)\n",
    "sequences = tokenizer.texts_to_sequences(text)\n",
    "\n",
    "# Rename for convienience\n",
    "x_train = sequences\n",
    "y_train = label\n",
    "\n",
    "# Preprocess data\n",
    "maxlen = 20\n",
    "x_train = preprocessing.sequence.pad_sequences(x_train, maxlen=maxlen)"
   ]
  },
  {
   "cell_type": "code",
   "execution_count": 24,
   "metadata": {},
   "outputs": [
    {
     "output_type": "stream",
     "name": "stdout",
     "text": [
      "Model: \"sequential_7\"\n",
      "_________________________________________________________________\n",
      "Layer (type)                 Output Shape              Param #   \n",
      "=================================================================\n",
      "embedding_5 (Embedding)      (None, 20, 8)             800000    \n",
      "_________________________________________________________________\n",
      "flatten_5 (Flatten)          (None, 160)               0         \n",
      "_________________________________________________________________\n",
      "dense_11 (Dense)             (None, 1)                 161       \n",
      "=================================================================\n",
      "Total params: 800,161\n",
      "Trainable params: 800,161\n",
      "Non-trainable params: 0\n",
      "_________________________________________________________________\n",
      "Epoch 1/5\n",
      "2076/2076 [==============================] - 6s 3ms/step - loss: 0.4476 - acc: 0.7920 - val_loss: 0.3339 - val_acc: 0.8473\n",
      "Epoch 2/5\n",
      "2076/2076 [==============================] - 5s 3ms/step - loss: 0.2932 - acc: 0.8693 - val_loss: 0.3064 - val_acc: 0.8627\n",
      "Epoch 3/5\n",
      "2076/2076 [==============================] - 5s 2ms/step - loss: 0.2613 - acc: 0.8877 - val_loss: 0.3037 - val_acc: 0.8644\n",
      "Epoch 4/5\n",
      "2076/2076 [==============================] - 5s 2ms/step - loss: 0.2398 - acc: 0.8988 - val_loss: 0.3064 - val_acc: 0.8688\n",
      "Epoch 5/5\n",
      "2076/2076 [==============================] - 5s 2ms/step - loss: 0.2232 - acc: 0.9072 - val_loss: 0.3100 - val_acc: 0.8673\n"
     ]
    }
   ],
   "source": [
    "# Create tf model\n",
    "model = Sequential()\n",
    "model.add(Embedding(100000, 8, input_length=maxlen))\n",
    "model.add(Flatten())\n",
    "model.add(Dense(1, activation='sigmoid'))\n",
    "\n",
    "model.compile(optimizer='rmsprop', loss='binary_crossentropy', metrics=['acc'])\n",
    "model.summary()\n",
    "\n",
    "history = model.fit(np.array(x_train), np.array(y_train),\n",
    "                    epochs=5,\n",
    "                    batch_size=8,\n",
    "                    validation_split=0.2)"
   ]
  },
  {
   "source": [
    "Tokenizer + Regression"
   ],
   "cell_type": "markdown",
   "metadata": {}
  }
 ]
}