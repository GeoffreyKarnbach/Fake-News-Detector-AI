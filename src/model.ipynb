{
 "metadata": {
  "language_info": {
   "codemirror_mode": {
    "name": "ipython",
    "version": 3
   },
   "file_extension": ".py",
   "mimetype": "text/x-python",
   "name": "python",
   "nbconvert_exporter": "python",
   "pygments_lexer": "ipython3",
   "version": "3.8.8"
  },
  "orig_nbformat": 4,
  "kernelspec": {
   "name": "python3",
   "display_name": "Python 3.8.8 64-bit ('tensorflow_env': conda)"
  },
  "interpreter": {
   "hash": "375ab4c1ab94451e4347f8ebefe4abf995b6f0e04a291ef7cdf3744e7f1198d8"
  }
 },
 "nbformat": 4,
 "nbformat_minor": 2,
 "cells": [
  {
   "cell_type": "code",
   "execution_count": 21,
   "metadata": {},
   "outputs": [],
   "source": [
    "import numpy as np\n",
    "import pandas as pd\n",
    "from sklearn.utils import shuffle\n",
    "from tensorflow.keras.preprocessing.text import Tokenizer\n",
    "from tensorflow.keras import preprocessing\n",
    "from tensorflow.keras.models import Sequential\n",
    "from tensorflow.keras.layers import Flatten, Dense\n",
    "from tensorflow.keras.layers import Embedding\n",
    "import tensorflow as tf"
   ]
  },
  {
   "cell_type": "code",
   "execution_count": 22,
   "metadata": {},
   "outputs": [],
   "source": [
    "df = pd.read_csv(\"../data/transformed/wrangled.csv\")"
   ]
  },
  {
   "cell_type": "code",
   "execution_count": 23,
   "metadata": {},
   "outputs": [],
   "source": [
    "from sklearn.model_selection import train_test_split\n",
    "\n",
    "df_train, df_test = train_test_split(df, test_size=0.2)"
   ]
  },
  {
   "cell_type": "code",
   "execution_count": 24,
   "metadata": {},
   "outputs": [
    {
     "output_type": "execute_result",
     "data": {
      "text/plain": [
       "   Unnamed: 0  id                                              title  \\\n",
       "0           0   0  House Dem Aide: We Didn’t Even See Comey’s Let...   \n",
       "1           1   1  FLYNN: Hillary Clinton, Big Woman on Campus - ...   \n",
       "2           2   2                  Why the Truth Might Get You Fired   \n",
       "3           3   3  15 Civilians Killed In Single US Airstrike Hav...   \n",
       "4           4   4  Iranian woman jailed for fictional unpublished...   \n",
       "\n",
       "               author                                               text  \\\n",
       "0       Darrell Lucus  House Dem Aide: We Didn’t Even See Comey’s Let...   \n",
       "1     Daniel J. Flynn  Ever get the feeling your life circles the rou...   \n",
       "2  Consortiumnews.com  Why the Truth Might Get You Fired October 29, ...   \n",
       "3     Jessica Purkiss  Videos 15 Civilians Killed In Single US Airstr...   \n",
       "4      Howard Portnoy  Print \\nAn Iranian woman has been sentenced to...   \n",
       "\n",
       "   label  nb_names  exclamation  text_length  \n",
       "0      1        17            0           10  \n",
       "1      0        12            0            9  \n",
       "2      1        11            0           16  \n",
       "3      1         4            0            7  \n",
       "4      1         3            0            2  "
      ],
      "text/html": "<div>\n<style scoped>\n    .dataframe tbody tr th:only-of-type {\n        vertical-align: middle;\n    }\n\n    .dataframe tbody tr th {\n        vertical-align: top;\n    }\n\n    .dataframe thead th {\n        text-align: right;\n    }\n</style>\n<table border=\"1\" class=\"dataframe\">\n  <thead>\n    <tr style=\"text-align: right;\">\n      <th></th>\n      <th>Unnamed: 0</th>\n      <th>id</th>\n      <th>title</th>\n      <th>author</th>\n      <th>text</th>\n      <th>label</th>\n      <th>nb_names</th>\n      <th>exclamation</th>\n      <th>text_length</th>\n    </tr>\n  </thead>\n  <tbody>\n    <tr>\n      <th>0</th>\n      <td>0</td>\n      <td>0</td>\n      <td>House Dem Aide: We Didn’t Even See Comey’s Let...</td>\n      <td>Darrell Lucus</td>\n      <td>House Dem Aide: We Didn’t Even See Comey’s Let...</td>\n      <td>1</td>\n      <td>17</td>\n      <td>0</td>\n      <td>10</td>\n    </tr>\n    <tr>\n      <th>1</th>\n      <td>1</td>\n      <td>1</td>\n      <td>FLYNN: Hillary Clinton, Big Woman on Campus - ...</td>\n      <td>Daniel J. Flynn</td>\n      <td>Ever get the feeling your life circles the rou...</td>\n      <td>0</td>\n      <td>12</td>\n      <td>0</td>\n      <td>9</td>\n    </tr>\n    <tr>\n      <th>2</th>\n      <td>2</td>\n      <td>2</td>\n      <td>Why the Truth Might Get You Fired</td>\n      <td>Consortiumnews.com</td>\n      <td>Why the Truth Might Get You Fired October 29, ...</td>\n      <td>1</td>\n      <td>11</td>\n      <td>0</td>\n      <td>16</td>\n    </tr>\n    <tr>\n      <th>3</th>\n      <td>3</td>\n      <td>3</td>\n      <td>15 Civilians Killed In Single US Airstrike Hav...</td>\n      <td>Jessica Purkiss</td>\n      <td>Videos 15 Civilians Killed In Single US Airstr...</td>\n      <td>1</td>\n      <td>4</td>\n      <td>0</td>\n      <td>7</td>\n    </tr>\n    <tr>\n      <th>4</th>\n      <td>4</td>\n      <td>4</td>\n      <td>Iranian woman jailed for fictional unpublished...</td>\n      <td>Howard Portnoy</td>\n      <td>Print \\nAn Iranian woman has been sentenced to...</td>\n      <td>1</td>\n      <td>3</td>\n      <td>0</td>\n      <td>2</td>\n    </tr>\n  </tbody>\n</table>\n</div>"
     },
     "metadata": {},
     "execution_count": 24
    }
   ],
   "source": [
    "df.head()"
   ]
  },
  {
   "cell_type": "code",
   "execution_count": 25,
   "metadata": {},
   "outputs": [
    {
     "output_type": "execute_result",
     "data": {
      "text/plain": [
       "16608"
      ]
     },
     "metadata": {},
     "execution_count": 25
    }
   ],
   "source": [
    "len(df_train)"
   ]
  },
  {
   "cell_type": "code",
   "execution_count": 26,
   "metadata": {},
   "outputs": [
    {
     "output_type": "execute_result",
     "data": {
      "text/plain": [
       "4153"
      ]
     },
     "metadata": {},
     "execution_count": 26
    }
   ],
   "source": [
    "len(df_test)"
   ]
  },
  {
   "source": [
    "Regression"
   ],
   "cell_type": "markdown",
   "metadata": {}
  },
  {
   "cell_type": "code",
   "execution_count": 27,
   "metadata": {},
   "outputs": [],
   "source": [
    "model = tf.keras.Sequential([\n",
    "      tf.keras.layers.Dense(32, activation='relu', input_shape=(3,)),\n",
    "      tf.keras.layers.Dense(32, activation='relu'),\n",
    "      tf.keras.layers.Dense(1, activation='sigmoid')\n",
    "])\n",
    "\n",
    "model.compile(loss='mean_absolute_error',\n",
    "                optimizer=tf.keras.optimizers.Adam(0.001),\n",
    "                metrics=[tf.keras.metrics.Accuracy()])"
   ]
  },
  {
   "cell_type": "code",
   "execution_count": 28,
   "metadata": {},
   "outputs": [
    {
     "output_type": "stream",
     "name": "stdout",
     "text": [
      "Model: \"sequential_1\"\n_________________________________________________________________\nLayer (type)                 Output Shape              Param #   \n=================================================================\ndense_3 (Dense)              (None, 32)                128       \n_________________________________________________________________\ndense_4 (Dense)              (None, 32)                1056      \n_________________________________________________________________\ndense_5 (Dense)              (None, 1)                 33        \n=================================================================\nTotal params: 1,217\nTrainable params: 1,217\nNon-trainable params: 0\n_________________________________________________________________\n"
     ]
    }
   ],
   "source": [
    "model.summary()"
   ]
  },
  {
   "cell_type": "code",
   "execution_count": 29,
   "metadata": {},
   "outputs": [
    {
     "output_type": "stream",
     "name": "stdout",
     "text": [
      "Epoch 1/100\n",
      "519/519 [==============================] - 1s 687us/step - loss: 0.3518 - accuracy: 0.0150 - val_loss: 0.3200 - val_accuracy: 0.0258\n",
      "Epoch 2/100\n",
      "519/519 [==============================] - 0s 533us/step - loss: 0.3250 - accuracy: 0.0509 - val_loss: 0.3166 - val_accuracy: 0.0508\n",
      "Epoch 3/100\n",
      "519/519 [==============================] - 0s 521us/step - loss: 0.3223 - accuracy: 0.0600 - val_loss: 0.3151 - val_accuracy: 0.0689\n",
      "Epoch 4/100\n",
      "519/519 [==============================] - 0s 531us/step - loss: 0.3217 - accuracy: 0.0798 - val_loss: 0.3189 - val_accuracy: 0.0727\n",
      "Epoch 5/100\n",
      "519/519 [==============================] - 0s 529us/step - loss: 0.3208 - accuracy: 0.0836 - val_loss: 0.3139 - val_accuracy: 0.0970\n",
      "Epoch 6/100\n",
      "519/519 [==============================] - 0s 531us/step - loss: 0.3203 - accuracy: 0.0918 - val_loss: 0.3144 - val_accuracy: 0.1096\n",
      "Epoch 7/100\n",
      "519/519 [==============================] - 0s 535us/step - loss: 0.3187 - accuracy: 0.1076 - val_loss: 0.3142 - val_accuracy: 0.1197\n",
      "Epoch 8/100\n",
      "519/519 [==============================] - 0s 527us/step - loss: 0.3190 - accuracy: 0.1094 - val_loss: 0.3146 - val_accuracy: 0.1074\n",
      "Epoch 9/100\n",
      "519/519 [==============================] - 0s 531us/step - loss: 0.3188 - accuracy: 0.1127 - val_loss: 0.3159 - val_accuracy: 0.1370\n",
      "Epoch 10/100\n",
      "519/519 [==============================] - 0s 523us/step - loss: 0.3180 - accuracy: 0.1208 - val_loss: 0.3141 - val_accuracy: 0.1368\n",
      "Epoch 11/100\n",
      "519/519 [==============================] - 0s 519us/step - loss: 0.3174 - accuracy: 0.1218 - val_loss: 0.3128 - val_accuracy: 0.1368\n",
      "Epoch 12/100\n",
      "519/519 [==============================] - 0s 568us/step - loss: 0.3169 - accuracy: 0.1289 - val_loss: 0.3146 - val_accuracy: 0.1368\n",
      "Epoch 13/100\n",
      "519/519 [==============================] - 0s 606us/step - loss: 0.3172 - accuracy: 0.1371 - val_loss: 0.3136 - val_accuracy: 0.1373\n",
      "Epoch 14/100\n",
      "519/519 [==============================] - 0s 529us/step - loss: 0.3178 - accuracy: 0.1375 - val_loss: 0.3128 - val_accuracy: 0.1469\n",
      "Epoch 15/100\n",
      "519/519 [==============================] - 0s 569us/step - loss: 0.3169 - accuracy: 0.1394 - val_loss: 0.3112 - val_accuracy: 0.1558\n",
      "Epoch 16/100\n",
      "519/519 [==============================] - 0s 544us/step - loss: 0.3182 - accuracy: 0.1571 - val_loss: 0.3165 - val_accuracy: 0.1640\n",
      "Epoch 17/100\n",
      "519/519 [==============================] - 0s 548us/step - loss: 0.3176 - accuracy: 0.1609 - val_loss: 0.3150 - val_accuracy: 0.2133\n",
      "Epoch 18/100\n",
      "519/519 [==============================] - 0s 552us/step - loss: 0.3175 - accuracy: 0.1771 - val_loss: 0.3127 - val_accuracy: 0.2008\n",
      "Epoch 19/100\n",
      "519/519 [==============================] - 0s 541us/step - loss: 0.3179 - accuracy: 0.1773 - val_loss: 0.3135 - val_accuracy: 0.1948\n",
      "Epoch 20/100\n",
      "519/519 [==============================] - 0s 537us/step - loss: 0.3167 - accuracy: 0.1864 - val_loss: 0.3135 - val_accuracy: 0.1912\n",
      "Epoch 21/100\n",
      "519/519 [==============================] - 0s 544us/step - loss: 0.3167 - accuracy: 0.1747 - val_loss: 0.3128 - val_accuracy: 0.1960\n",
      "Epoch 22/100\n",
      "519/519 [==============================] - 0s 562us/step - loss: 0.3172 - accuracy: 0.1812 - val_loss: 0.3127 - val_accuracy: 0.1902\n",
      "Epoch 23/100\n",
      "519/519 [==============================] - 0s 554us/step - loss: 0.3188 - accuracy: 0.1991 - val_loss: 0.3164 - val_accuracy: 0.2114\n",
      "Epoch 24/100\n",
      "519/519 [==============================] - 0s 558us/step - loss: 0.3161 - accuracy: 0.1894 - val_loss: 0.3102 - val_accuracy: 0.2085\n",
      "Epoch 25/100\n",
      "519/519 [==============================] - 0s 544us/step - loss: 0.3158 - accuracy: 0.1895 - val_loss: 0.3106 - val_accuracy: 0.2177\n",
      "Epoch 26/100\n",
      "519/519 [==============================] - 0s 552us/step - loss: 0.3159 - accuracy: 0.1937 - val_loss: 0.3124 - val_accuracy: 0.1967\n",
      "Epoch 27/100\n",
      "519/519 [==============================] - 0s 558us/step - loss: 0.3155 - accuracy: 0.1929 - val_loss: 0.3131 - val_accuracy: 0.2059\n",
      "Epoch 28/100\n",
      "519/519 [==============================] - 0s 537us/step - loss: 0.3168 - accuracy: 0.2098 - val_loss: 0.3180 - val_accuracy: 0.2222\n",
      "Epoch 29/100\n",
      "519/519 [==============================] - 0s 539us/step - loss: 0.3152 - accuracy: 0.1968 - val_loss: 0.3107 - val_accuracy: 0.2357\n",
      "Epoch 30/100\n",
      "519/519 [==============================] - 0s 566us/step - loss: 0.3165 - accuracy: 0.2058 - val_loss: 0.3142 - val_accuracy: 0.2601\n",
      "Epoch 31/100\n",
      "519/519 [==============================] - 0s 558us/step - loss: 0.3175 - accuracy: 0.2095 - val_loss: 0.3115 - val_accuracy: 0.2275\n",
      "Epoch 32/100\n",
      "519/519 [==============================] - 0s 541us/step - loss: 0.3151 - accuracy: 0.2083 - val_loss: 0.3135 - val_accuracy: 0.2198\n",
      "Epoch 33/100\n",
      "519/519 [==============================] - 0s 562us/step - loss: 0.3165 - accuracy: 0.2185 - val_loss: 0.3148 - val_accuracy: 0.2288\n",
      "Epoch 34/100\n",
      "519/519 [==============================] - 0s 542us/step - loss: 0.3163 - accuracy: 0.2163 - val_loss: 0.3133 - val_accuracy: 0.2309\n",
      "Epoch 35/100\n",
      "519/519 [==============================] - 0s 562us/step - loss: 0.3152 - accuracy: 0.2154 - val_loss: 0.3149 - val_accuracy: 0.2340\n",
      "Epoch 36/100\n",
      "519/519 [==============================] - 0s 548us/step - loss: 0.3167 - accuracy: 0.2361 - val_loss: 0.3161 - val_accuracy: 0.2485\n",
      "Epoch 37/100\n",
      "519/519 [==============================] - 0s 550us/step - loss: 0.3175 - accuracy: 0.2418 - val_loss: 0.3131 - val_accuracy: 0.2372\n",
      "Epoch 38/100\n",
      "519/519 [==============================] - 0s 558us/step - loss: 0.3145 - accuracy: 0.2234 - val_loss: 0.3102 - val_accuracy: 0.2533\n",
      "Epoch 39/100\n",
      "519/519 [==============================] - 0s 542us/step - loss: 0.3164 - accuracy: 0.2330 - val_loss: 0.3130 - val_accuracy: 0.2312\n",
      "Epoch 40/100\n",
      "519/519 [==============================] - 0s 556us/step - loss: 0.3143 - accuracy: 0.2411 - val_loss: 0.3143 - val_accuracy: 0.2557\n",
      "Epoch 41/100\n",
      "519/519 [==============================] - 0s 542us/step - loss: 0.3153 - accuracy: 0.2431 - val_loss: 0.3125 - val_accuracy: 0.2523\n",
      "Epoch 42/100\n",
      "519/519 [==============================] - 0s 560us/step - loss: 0.3160 - accuracy: 0.2307 - val_loss: 0.3158 - val_accuracy: 0.2403\n",
      "Epoch 43/100\n",
      "519/519 [==============================] - 0s 535us/step - loss: 0.3155 - accuracy: 0.2386 - val_loss: 0.3164 - val_accuracy: 0.2954\n",
      "Epoch 44/100\n",
      "519/519 [==============================] - 0s 562us/step - loss: 0.3165 - accuracy: 0.2528 - val_loss: 0.3135 - val_accuracy: 0.2560\n",
      "Epoch 45/100\n",
      "519/519 [==============================] - 0s 552us/step - loss: 0.3136 - accuracy: 0.2554 - val_loss: 0.3121 - val_accuracy: 0.2579\n",
      "Epoch 46/100\n",
      "519/519 [==============================] - 0s 548us/step - loss: 0.3156 - accuracy: 0.2461 - val_loss: 0.3121 - val_accuracy: 0.2598\n",
      "Epoch 47/100\n",
      "519/519 [==============================] - 0s 558us/step - loss: 0.3170 - accuracy: 0.2548 - val_loss: 0.3129 - val_accuracy: 0.2581\n",
      "Epoch 48/100\n",
      "519/519 [==============================] - 0s 542us/step - loss: 0.3146 - accuracy: 0.2508 - val_loss: 0.3133 - val_accuracy: 0.2557\n",
      "Epoch 49/100\n",
      "519/519 [==============================] - 0s 558us/step - loss: 0.3162 - accuracy: 0.2450 - val_loss: 0.3133 - val_accuracy: 0.2711\n",
      "Epoch 50/100\n",
      "519/519 [==============================] - 0s 541us/step - loss: 0.3158 - accuracy: 0.2509 - val_loss: 0.3128 - val_accuracy: 0.2605\n",
      "Epoch 51/100\n",
      "519/519 [==============================] - 0s 558us/step - loss: 0.3153 - accuracy: 0.2461 - val_loss: 0.3133 - val_accuracy: 0.2764\n",
      "Epoch 52/100\n",
      "519/519 [==============================] - 0s 542us/step - loss: 0.3141 - accuracy: 0.2604 - val_loss: 0.3141 - val_accuracy: 0.2702\n",
      "Epoch 53/100\n",
      "519/519 [==============================] - 0s 546us/step - loss: 0.3143 - accuracy: 0.2562 - val_loss: 0.3103 - val_accuracy: 0.2702\n",
      "Epoch 54/100\n",
      "519/519 [==============================] - 0s 552us/step - loss: 0.3145 - accuracy: 0.2599 - val_loss: 0.3144 - val_accuracy: 0.2747\n",
      "Epoch 55/100\n",
      "519/519 [==============================] - 0s 544us/step - loss: 0.3155 - accuracy: 0.2546 - val_loss: 0.3101 - val_accuracy: 0.2762\n",
      "Epoch 56/100\n",
      "519/519 [==============================] - 0s 558us/step - loss: 0.3140 - accuracy: 0.2659 - val_loss: 0.3141 - val_accuracy: 0.3070\n",
      "Epoch 57/100\n",
      "519/519 [==============================] - 0s 533us/step - loss: 0.3164 - accuracy: 0.2689 - val_loss: 0.3127 - val_accuracy: 0.2786\n",
      "Epoch 58/100\n",
      "519/519 [==============================] - 0s 550us/step - loss: 0.3189 - accuracy: 0.2729 - val_loss: 0.3155 - val_accuracy: 0.2979\n",
      "Epoch 59/100\n",
      "519/519 [==============================] - 0s 556us/step - loss: 0.3153 - accuracy: 0.2738 - val_loss: 0.3125 - val_accuracy: 0.2849\n",
      "Epoch 60/100\n",
      "519/519 [==============================] - 0s 554us/step - loss: 0.3158 - accuracy: 0.2708 - val_loss: 0.3133 - val_accuracy: 0.2846\n",
      "Epoch 61/100\n",
      "519/519 [==============================] - 0s 548us/step - loss: 0.3174 - accuracy: 0.2750 - val_loss: 0.3113 - val_accuracy: 0.2706\n",
      "Epoch 62/100\n",
      "519/519 [==============================] - 0s 569us/step - loss: 0.3216 - accuracy: 0.2923 - val_loss: 0.3201 - val_accuracy: 0.3056\n",
      "Epoch 63/100\n",
      "519/519 [==============================] - 0s 562us/step - loss: 0.3164 - accuracy: 0.2776 - val_loss: 0.3106 - val_accuracy: 0.2930\n",
      "Epoch 64/100\n",
      "519/519 [==============================] - 0s 560us/step - loss: 0.3152 - accuracy: 0.2723 - val_loss: 0.3111 - val_accuracy: 0.2779\n",
      "Epoch 65/100\n",
      "519/519 [==============================] - 0s 556us/step - loss: 0.3162 - accuracy: 0.2797 - val_loss: 0.3164 - val_accuracy: 0.3060\n",
      "Epoch 66/100\n",
      "519/519 [==============================] - 0s 554us/step - loss: 0.3176 - accuracy: 0.2783 - val_loss: 0.3109 - val_accuracy: 0.2834\n",
      "Epoch 67/100\n",
      "519/519 [==============================] - 0s 548us/step - loss: 0.3155 - accuracy: 0.2817 - val_loss: 0.3136 - val_accuracy: 0.2911\n",
      "Epoch 68/100\n",
      "519/519 [==============================] - 0s 562us/step - loss: 0.3155 - accuracy: 0.2717 - val_loss: 0.3120 - val_accuracy: 0.2950\n",
      "Epoch 69/100\n",
      "519/519 [==============================] - 0s 554us/step - loss: 0.3151 - accuracy: 0.2818 - val_loss: 0.3124 - val_accuracy: 0.3060\n",
      "Epoch 70/100\n",
      "519/519 [==============================] - 0s 564us/step - loss: 0.3151 - accuracy: 0.2760 - val_loss: 0.3125 - val_accuracy: 0.2858\n",
      "Epoch 71/100\n",
      "519/519 [==============================] - 0s 552us/step - loss: 0.3155 - accuracy: 0.2742 - val_loss: 0.3121 - val_accuracy: 0.2875\n",
      "Epoch 72/100\n",
      "519/519 [==============================] - 0s 608us/step - loss: 0.3148 - accuracy: 0.2803 - val_loss: 0.3131 - val_accuracy: 0.2940\n",
      "Epoch 73/100\n",
      "519/519 [==============================] - 0s 579us/step - loss: 0.3155 - accuracy: 0.2850 - val_loss: 0.3114 - val_accuracy: 0.2849\n",
      "Epoch 74/100\n",
      "519/519 [==============================] - 0s 552us/step - loss: 0.3155 - accuracy: 0.2809 - val_loss: 0.3147 - val_accuracy: 0.2926\n",
      "Epoch 75/100\n",
      "519/519 [==============================] - 0s 610us/step - loss: 0.3153 - accuracy: 0.2800 - val_loss: 0.3172 - val_accuracy: 0.3058\n",
      "Epoch 76/100\n",
      "519/519 [==============================] - 0s 579us/step - loss: 0.3163 - accuracy: 0.2857 - val_loss: 0.3126 - val_accuracy: 0.2873\n",
      "Epoch 77/100\n",
      "519/519 [==============================] - 0s 571us/step - loss: 0.3140 - accuracy: 0.2795 - val_loss: 0.3126 - val_accuracy: 0.3003\n",
      "Epoch 78/100\n",
      "519/519 [==============================] - 0s 608us/step - loss: 0.3146 - accuracy: 0.2837 - val_loss: 0.3197 - val_accuracy: 0.3116\n",
      "Epoch 79/100\n",
      "519/519 [==============================] - 0s 792us/step - loss: 0.3189 - accuracy: 0.2949 - val_loss: 0.3153 - val_accuracy: 0.3010\n",
      "Epoch 80/100\n",
      "519/519 [==============================] - 0s 720us/step - loss: 0.3191 - accuracy: 0.2861 - val_loss: 0.3098 - val_accuracy: 0.3210\n",
      "Epoch 81/100\n",
      "519/519 [==============================] - 0s 569us/step - loss: 0.3177 - accuracy: 0.3020 - val_loss: 0.3113 - val_accuracy: 0.3246\n",
      "Epoch 82/100\n",
      "519/519 [==============================] - 0s 629us/step - loss: 0.3189 - accuracy: 0.3143 - val_loss: 0.3134 - val_accuracy: 0.3106\n",
      "Epoch 83/100\n",
      "519/519 [==============================] - 0s 593us/step - loss: 0.3182 - accuracy: 0.3014 - val_loss: 0.3139 - val_accuracy: 0.3085\n",
      "Epoch 84/100\n",
      "519/519 [==============================] - 0s 595us/step - loss: 0.3175 - accuracy: 0.2973 - val_loss: 0.3176 - val_accuracy: 0.2952\n",
      "Epoch 85/100\n",
      "519/519 [==============================] - 0s 595us/step - loss: 0.3168 - accuracy: 0.2804 - val_loss: 0.3101 - val_accuracy: 0.2998\n",
      "Epoch 86/100\n",
      "519/519 [==============================] - 0s 597us/step - loss: 0.3144 - accuracy: 0.2887 - val_loss: 0.3094 - val_accuracy: 0.3183\n",
      "Epoch 87/100\n",
      "519/519 [==============================] - 0s 587us/step - loss: 0.3135 - accuracy: 0.2950 - val_loss: 0.3096 - val_accuracy: 0.3260\n",
      "Epoch 88/100\n",
      "519/519 [==============================] - 0s 587us/step - loss: 0.3130 - accuracy: 0.2941 - val_loss: 0.3106 - val_accuracy: 0.3056\n",
      "Epoch 89/100\n",
      "519/519 [==============================] - 0s 579us/step - loss: 0.3152 - accuracy: 0.2976 - val_loss: 0.3124 - val_accuracy: 0.3097\n",
      "Epoch 90/100\n",
      "519/519 [==============================] - 0s 589us/step - loss: 0.3150 - accuracy: 0.2949 - val_loss: 0.3082 - val_accuracy: 0.3145\n",
      "Epoch 91/100\n",
      "519/519 [==============================] - 0s 614us/step - loss: 0.3148 - accuracy: 0.2879 - val_loss: 0.3108 - val_accuracy: 0.2988\n",
      "Epoch 92/100\n",
      "519/519 [==============================] - 0s 579us/step - loss: 0.3160 - accuracy: 0.2884 - val_loss: 0.3095 - val_accuracy: 0.2988\n",
      "Epoch 93/100\n",
      "519/519 [==============================] - 0s 587us/step - loss: 0.3142 - accuracy: 0.2895 - val_loss: 0.3120 - val_accuracy: 0.3087\n",
      "Epoch 94/100\n",
      "519/519 [==============================] - 0s 600us/step - loss: 0.3131 - accuracy: 0.2924 - val_loss: 0.3131 - val_accuracy: 0.3089\n",
      "Epoch 95/100\n",
      "519/519 [==============================] - 0s 570us/step - loss: 0.3148 - accuracy: 0.2902 - val_loss: 0.3088 - val_accuracy: 0.3121\n",
      "Epoch 96/100\n",
      "519/519 [==============================] - 0s 585us/step - loss: 0.3158 - accuracy: 0.2937 - val_loss: 0.3160 - val_accuracy: 0.3188\n",
      "Epoch 97/100\n",
      "519/519 [==============================] - 0s 569us/step - loss: 0.3147 - accuracy: 0.2953 - val_loss: 0.3163 - val_accuracy: 0.3140\n",
      "Epoch 98/100\n",
      "519/519 [==============================] - 0s 591us/step - loss: 0.3165 - accuracy: 0.2962 - val_loss: 0.3129 - val_accuracy: 0.3060\n",
      "Epoch 99/100\n",
      "519/519 [==============================] - 0s 573us/step - loss: 0.3141 - accuracy: 0.2907 - val_loss: 0.3124 - val_accuracy: 0.3133\n",
      "Epoch 100/100\n",
      "519/519 [==============================] - 0s 595us/step - loss: 0.3142 - accuracy: 0.2967 - val_loss: 0.3149 - val_accuracy: 0.3166\n"
     ]
    },
    {
     "output_type": "execute_result",
     "data": {
      "text/plain": [
       "<tensorflow.python.keras.callbacks.History at 0x29d86c96f10>"
      ]
     },
     "metadata": {},
     "execution_count": 29
    }
   ],
   "source": [
    "model.fit(df[[\"nb_names\", \"exclamation\", \"text_length\"]], df[\"label\"], epochs=100, validation_split = 0.2)"
   ]
  },
  {
   "source": [
    "Tokenizer"
   ],
   "cell_type": "markdown",
   "metadata": {}
  },
  {
   "cell_type": "code",
   "execution_count": 30,
   "metadata": {},
   "outputs": [],
   "source": [
    "# Shuffle data to improve performance\n",
    "df_train = shuffle(df_train)\n",
    "\n",
    "# Create list from data\n",
    "text = []\n",
    "\n",
    "for index, rows in df_train.iterrows(): \n",
    "    wordlist = str(rows[\"text\"])\n",
    "    text.append(wordlist)\n",
    "\n",
    "label = list(df_train['label'])\n",
    "\n",
    "# Create tokenizer\n",
    "tokenizer = Tokenizer(num_words=10000)\n",
    "tokenizer.fit_on_texts(text)\n",
    "sequences = tokenizer.texts_to_sequences(text)\n",
    "\n",
    "# Rename for convienience\n",
    "x_train = sequences\n",
    "y_train = label\n",
    "\n",
    "# Preprocess data\n",
    "maxlen = 20\n",
    "x_train = preprocessing.sequence.pad_sequences(x_train, maxlen=maxlen)"
   ]
  },
  {
   "cell_type": "code",
   "execution_count": 31,
   "metadata": {},
   "outputs": [
    {
     "output_type": "stream",
     "name": "stdout",
     "text": [
      "Model: \"sequential_2\"\n",
      "_________________________________________________________________\n",
      "Layer (type)                 Output Shape              Param #   \n",
      "=================================================================\n",
      "embedding (Embedding)        (None, 20, 8)             800000    \n",
      "_________________________________________________________________\n",
      "flatten (Flatten)            (None, 160)               0         \n",
      "_________________________________________________________________\n",
      "dense_6 (Dense)              (None, 1)                 161       \n",
      "=================================================================\n",
      "Total params: 800,161\n",
      "Trainable params: 800,161\n",
      "Non-trainable params: 0\n",
      "_________________________________________________________________\n",
      "Epoch 1/5\n",
      "1661/1661 [==============================] - 5s 3ms/step - loss: 0.4821 - acc: 0.7769 - val_loss: 0.3662 - val_acc: 0.8272\n",
      "Epoch 2/5\n",
      "1661/1661 [==============================] - 4s 3ms/step - loss: 0.3043 - acc: 0.8634 - val_loss: 0.3256 - val_acc: 0.8504\n",
      "Epoch 3/5\n",
      "1661/1661 [==============================] - 4s 3ms/step - loss: 0.2610 - acc: 0.8873 - val_loss: 0.3111 - val_acc: 0.8528\n",
      "Epoch 4/5\n",
      "1661/1661 [==============================] - 4s 3ms/step - loss: 0.2338 - acc: 0.9011 - val_loss: 0.3103 - val_acc: 0.8564\n",
      "Epoch 5/5\n",
      "1661/1661 [==============================] - 4s 2ms/step - loss: 0.2122 - acc: 0.9118 - val_loss: 0.3099 - val_acc: 0.8570\n"
     ]
    }
   ],
   "source": [
    "# Create tf model\n",
    "model = Sequential()\n",
    "model.add(Embedding(100000, 8, input_length=maxlen))\n",
    "model.add(Flatten())\n",
    "model.add(Dense(1, activation='sigmoid'))\n",
    "\n",
    "model.compile(optimizer='rmsprop', loss='binary_crossentropy', metrics=['acc'])\n",
    "model.summary()\n",
    "\n",
    "history = model.fit(np.array(x_train), np.array(y_train),\n",
    "                    epochs=5,\n",
    "                    batch_size=8,\n",
    "                    validation_split=0.2)"
   ]
  },
  {
   "cell_type": "code",
   "execution_count": 36,
   "metadata": {},
   "outputs": [],
   "source": [
    "# Shuffle data to improve performance\n",
    "df_test = shuffle(df_test)\n",
    "\n",
    "# Create list from data\n",
    "text = []\n",
    "\n",
    "for index, rows in df_test.iterrows(): \n",
    "    wordlist = str(rows[\"text\"])\n",
    "    text.append(wordlist)\n",
    "\n",
    "label = list(df_test['label'])\n",
    "sequences = tokenizer.texts_to_sequences(text)\n",
    "\n",
    "# Rename for convienience\n",
    "x_test = sequences\n",
    "y_test = label\n",
    "\n",
    "# Preprocess data\n",
    "maxlen = 20\n",
    "x_test = preprocessing.sequence.pad_sequences(x_test, maxlen=maxlen)"
   ]
  },
  {
   "cell_type": "code",
   "execution_count": 38,
   "metadata": {},
   "outputs": [
    {
     "output_type": "stream",
     "name": "stdout",
     "text": [
      "130/130 [==============================] - 0s 434us/step - loss: 0.3157 - acc: 0.8613\n"
     ]
    },
    {
     "output_type": "execute_result",
     "data": {
      "text/plain": [
       "[0.31567978858947754, 0.8613050580024719]"
      ]
     },
     "metadata": {},
     "execution_count": 38
    }
   ],
   "source": [
    "model.evaluate(np.array(x_test), np.array(y_test))"
   ]
  },
  {
   "source": [
    "Evaluate"
   ],
   "cell_type": "markdown",
   "metadata": {}
  },
  {
   "cell_type": "code",
   "execution_count": 39,
   "metadata": {},
   "outputs": [],
   "source": [
    "df_test_submission = pd.read_csv(\"../data/transformed/wrangled_test.csv\")"
   ]
  },
  {
   "cell_type": "code",
   "execution_count": 43,
   "metadata": {},
   "outputs": [],
   "source": [
    "# Create list from data\n",
    "text = []\n",
    "\n",
    "for index, rows in df_test_submission.iterrows(): \n",
    "    wordlist = str(rows[\"text\"])\n",
    "    text.append(wordlist)\n",
    "\n",
    "sequences = tokenizer.texts_to_sequences(text)\n",
    "\n",
    "# Rename for convienience\n",
    "x_test_submission = sequences\n",
    "\n",
    "# Preprocess data\n",
    "maxlen = 20\n",
    "x_test_submission = preprocessing.sequence.pad_sequences(x_test_submission, maxlen=maxlen)"
   ]
  },
  {
   "cell_type": "code",
   "execution_count": 44,
   "metadata": {},
   "outputs": [],
   "source": [
    "preds = model.predict(np.array(x_test_submission),\n",
    "    batch_size=8,\n",
    ")"
   ]
  },
  {
   "cell_type": "code",
   "execution_count": 47,
   "metadata": {},
   "outputs": [
    {
     "output_type": "execute_result",
     "data": {
      "text/plain": [
       "array([[1.4201412e-01],\n",
       "       [9.7554797e-01],\n",
       "       [9.8831886e-01],\n",
       "       ...,\n",
       "       [3.0197409e-06],\n",
       "       [1.0000000e+00],\n",
       "       [2.7207077e-05]], dtype=float32)"
      ]
     },
     "metadata": {},
     "execution_count": 47
    }
   ],
   "source": [
    "preds"
   ]
  },
  {
   "cell_type": "code",
   "execution_count": 48,
   "metadata": {},
   "outputs": [],
   "source": [
    "df_test_submission_labels = pd.DataFrame(preds)"
   ]
  },
  {
   "cell_type": "code",
   "execution_count": 49,
   "metadata": {},
   "outputs": [
    {
     "output_type": "execute_result",
     "data": {
      "text/plain": [
       "          0\n",
       "0  0.142014\n",
       "1  0.975548\n",
       "2  0.988319\n",
       "3  0.229068\n",
       "4  0.999954"
      ],
      "text/html": "<div>\n<style scoped>\n    .dataframe tbody tr th:only-of-type {\n        vertical-align: middle;\n    }\n\n    .dataframe tbody tr th {\n        vertical-align: top;\n    }\n\n    .dataframe thead th {\n        text-align: right;\n    }\n</style>\n<table border=\"1\" class=\"dataframe\">\n  <thead>\n    <tr style=\"text-align: right;\">\n      <th></th>\n      <th>0</th>\n    </tr>\n  </thead>\n  <tbody>\n    <tr>\n      <th>0</th>\n      <td>0.142014</td>\n    </tr>\n    <tr>\n      <th>1</th>\n      <td>0.975548</td>\n    </tr>\n    <tr>\n      <th>2</th>\n      <td>0.988319</td>\n    </tr>\n    <tr>\n      <th>3</th>\n      <td>0.229068</td>\n    </tr>\n    <tr>\n      <th>4</th>\n      <td>0.999954</td>\n    </tr>\n  </tbody>\n</table>\n</div>"
     },
     "metadata": {},
     "execution_count": 49
    }
   ],
   "source": [
    "df_test_submission_labels.head()"
   ]
  },
  {
   "cell_type": "code",
   "execution_count": 51,
   "metadata": {},
   "outputs": [],
   "source": [
    "df_test_submission[\"label\"] = preds.tolist()"
   ]
  },
  {
   "cell_type": "code",
   "execution_count": 54,
   "metadata": {},
   "outputs": [],
   "source": [
    "df_test_submission[\"label\"] = df_test_submission[\"label\"].apply(lambda x: round(x[0]))"
   ]
  },
  {
   "cell_type": "code",
   "execution_count": 55,
   "metadata": {},
   "outputs": [
    {
     "output_type": "execute_result",
     "data": {
      "text/plain": [
       "   Unnamed: 0     id                                              title  \\\n",
       "0           0  20800  Specter of Trump Loosens Tongues, if Not Purse...   \n",
       "1           1  20801  Russian warships ready to strike terrorists ne...   \n",
       "2           2  20802  #NoDAPL: Native American Leaders Vow to Stay A...   \n",
       "3           3  20803  Tim Tebow Will Attempt Another Comeback, This ...   \n",
       "4           4  20804                    Keiser Report: Meme Wars (E995)   \n",
       "\n",
       "                    author                                               text  \\\n",
       "0         David Streitfeld  PALO ALTO, Calif.  —   After years of scorning...   \n",
       "1                      NaN  Russian warships ready to strike terrorists ne...   \n",
       "2            Common Dreams  Videos #NoDAPL: Native American Leaders Vow to...   \n",
       "3            Daniel Victor  If at first you don’t succeed, try a different...   \n",
       "4  Truth Broadcast Network  42 mins ago 1 Views 0 Comments 0 Likes 'For th...   \n",
       "\n",
       "   text_length  nb_names  exclamation  label  \n",
       "0           17        23            0      0  \n",
       "1            4         1            0      1  \n",
       "2           10        11            4      1  \n",
       "3            8        10            0      0  \n",
       "4            2         0            0      1  "
      ],
      "text/html": "<div>\n<style scoped>\n    .dataframe tbody tr th:only-of-type {\n        vertical-align: middle;\n    }\n\n    .dataframe tbody tr th {\n        vertical-align: top;\n    }\n\n    .dataframe thead th {\n        text-align: right;\n    }\n</style>\n<table border=\"1\" class=\"dataframe\">\n  <thead>\n    <tr style=\"text-align: right;\">\n      <th></th>\n      <th>Unnamed: 0</th>\n      <th>id</th>\n      <th>title</th>\n      <th>author</th>\n      <th>text</th>\n      <th>text_length</th>\n      <th>nb_names</th>\n      <th>exclamation</th>\n      <th>label</th>\n    </tr>\n  </thead>\n  <tbody>\n    <tr>\n      <th>0</th>\n      <td>0</td>\n      <td>20800</td>\n      <td>Specter of Trump Loosens Tongues, if Not Purse...</td>\n      <td>David Streitfeld</td>\n      <td>PALO ALTO, Calif.  —   After years of scorning...</td>\n      <td>17</td>\n      <td>23</td>\n      <td>0</td>\n      <td>0</td>\n    </tr>\n    <tr>\n      <th>1</th>\n      <td>1</td>\n      <td>20801</td>\n      <td>Russian warships ready to strike terrorists ne...</td>\n      <td>NaN</td>\n      <td>Russian warships ready to strike terrorists ne...</td>\n      <td>4</td>\n      <td>1</td>\n      <td>0</td>\n      <td>1</td>\n    </tr>\n    <tr>\n      <th>2</th>\n      <td>2</td>\n      <td>20802</td>\n      <td>#NoDAPL: Native American Leaders Vow to Stay A...</td>\n      <td>Common Dreams</td>\n      <td>Videos #NoDAPL: Native American Leaders Vow to...</td>\n      <td>10</td>\n      <td>11</td>\n      <td>4</td>\n      <td>1</td>\n    </tr>\n    <tr>\n      <th>3</th>\n      <td>3</td>\n      <td>20803</td>\n      <td>Tim Tebow Will Attempt Another Comeback, This ...</td>\n      <td>Daniel Victor</td>\n      <td>If at first you don’t succeed, try a different...</td>\n      <td>8</td>\n      <td>10</td>\n      <td>0</td>\n      <td>0</td>\n    </tr>\n    <tr>\n      <th>4</th>\n      <td>4</td>\n      <td>20804</td>\n      <td>Keiser Report: Meme Wars (E995)</td>\n      <td>Truth Broadcast Network</td>\n      <td>42 mins ago 1 Views 0 Comments 0 Likes 'For th...</td>\n      <td>2</td>\n      <td>0</td>\n      <td>0</td>\n      <td>1</td>\n    </tr>\n  </tbody>\n</table>\n</div>"
     },
     "metadata": {},
     "execution_count": 55
    }
   ],
   "source": [
    "df_test_submission.head()"
   ]
  },
  {
   "cell_type": "code",
   "execution_count": 58,
   "metadata": {},
   "outputs": [],
   "source": [
    "df_test_submission[[\"id\", \"label\"]].to_csv(\"../data/kaggle/my_submit.csv\", index=False)"
   ]
  },
  {
   "source": [
    "Tokenizer + Regression"
   ],
   "cell_type": "markdown",
   "metadata": {}
  }
 ]
}